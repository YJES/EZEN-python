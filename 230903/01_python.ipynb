{
 "cells": [
  {
   "cell_type": "code",
   "execution_count": 43,
   "metadata": {},
   "outputs": [
    {
     "name": "stdout",
     "output_type": "stream",
     "text": [
      "10\n",
      "test\n"
     ]
    }
   ],
   "source": [
    "# 주석 (ctrl + /)\n",
    "# 실행이 되지 않는 부분\n",
    "# 코드에 대한 설명을 쓰는 부분\n",
    "\n",
    "# 변수 생성\n",
    "a = 10\n",
    "b = \"test\"\n",
    "# 변수 출력\n",
    "print(a)\n",
    "print(b)"
   ]
  },
  {
   "cell_type": "code",
   "execution_count": 44,
   "metadata": {},
   "outputs": [
    {
     "name": "stdout",
     "output_type": "stream",
     "text": [
      "<class 'int'>\n",
      "<class 'str'>\n"
     ]
    }
   ],
   "source": [
    "# 변수의 타입을 확인\n",
    "print(type(a))\n",
    "print(type(b))"
   ]
  },
  {
   "cell_type": "code",
   "execution_count": 45,
   "metadata": {},
   "outputs": [
    {
     "name": "stdout",
     "output_type": "stream",
     "text": [
      "True\n",
      "<class 'bool'>\n"
     ]
    }
   ],
   "source": [
    "# bool형태의 데이터\n",
    "\n",
    "a = True\n",
    "print(a)\n",
    "print(type(a))"
   ]
  },
  {
   "cell_type": "code",
   "execution_count": 46,
   "metadata": {},
   "outputs": [
    {
     "name": "stdout",
     "output_type": "stream",
     "text": [
      "10 4 21 2.3333333333333335 2 1 343\n"
     ]
    }
   ],
   "source": [
    "# 산술연산자\n",
    "a = 7\n",
    "b = 3\n",
    "\n",
    "print(a+b, a-b, a*b, a/b, a//b, a%b, a**b)"
   ]
  },
  {
   "cell_type": "code",
   "execution_count": 47,
   "metadata": {},
   "outputs": [
    {
     "name": "stdout",
     "output_type": "stream",
     "text": [
      "8.5\n",
      "5.0\n"
     ]
    }
   ],
   "source": [
    "# 산술연산자의 우선순위\n",
    "a = 7\n",
    "b = 3 \n",
    "c = 2\n",
    "\n",
    "print(a+b/c)\n",
    "print((a+b)/c)"
   ]
  },
  {
   "cell_type": "code",
   "execution_count": 48,
   "metadata": {},
   "outputs": [
    {
     "name": "stdout",
     "output_type": "stream",
     "text": [
      "10\n",
      "7\n",
      "10\n"
     ]
    }
   ],
   "source": [
    "# 대입연산자\n",
    "a = 7\n",
    "print(a+3) #10\n",
    "print(a)   #7\n",
    "a += 3     #a = a + 3     \n",
    "print(a)   #10"
   ]
  },
  {
   "cell_type": "code",
   "execution_count": 49,
   "metadata": {},
   "outputs": [],
   "source": [
    "### 조건문\n",
    "#조건식을 기준으로 참인 경우 실행 할 코드와 거짓인 경우 실행 할 코드를 작성\n",
    "\n",
    "\n"
   ]
  },
  {
   "cell_type": "code",
   "execution_count": 50,
   "metadata": {},
   "outputs": [],
   "source": [
    "# 조건문 (if문)\n",
    "x = 12\n",
    "\n",
    "if x < 10:\n",
    "    print('x는 10보다 작다')"
   ]
  },
  {
   "cell_type": "code",
   "execution_count": 51,
   "metadata": {},
   "outputs": [
    {
     "name": "stdout",
     "output_type": "stream",
     "text": [
      "x는 10보다 크거나 같다\n"
     ]
    }
   ],
   "source": [
    "# if ~ else 문\n",
    "if x < 10:\n",
    "    print('x는 10보다 작다')\n",
    "else:\n",
    "    print(\"x는 10보다 크거나 같다\")"
   ]
  },
  {
   "cell_type": "code",
   "execution_count": 52,
   "metadata": {},
   "outputs": [
    {
     "name": "stdout",
     "output_type": "stream",
     "text": [
      "F\n",
      "프로그램 종료\n"
     ]
    }
   ],
   "source": [
    "# 조건식이 여러개인 경우\n",
    "# input() 함수는 유저가 입력할 수 있는 창을 새로 만들어서 입력값을 받아오는 함수\n",
    "# int()함수는 데이터를 정수형 데이터로 변환\n",
    "score = int(input('점수를 입력하시오 :'))\n",
    "\n",
    "if score >=90:\n",
    "    print('A')\n",
    "elif score >=80:\n",
    "    print('B')\n",
    "elif score >=70:\n",
    "    print('C')\n",
    "elif score >=60:\n",
    "    print('D')\n",
    "else :\n",
    "    print('F')\n",
    "\n",
    "print('프로그램 종료')"
   ]
  },
  {
   "cell_type": "code",
   "execution_count": 53,
   "metadata": {},
   "outputs": [],
   "source": [
    "### 반복문\n",
    "# for 문\n",
    "# 자료형 데이터의 개수만큼 반복 실행\n",
    "# while 문\n",
    "# 해당한느 조건식이 거짓일때까지 반복 실행\n",
    "#"
   ]
  },
  {
   "cell_type": "markdown",
   "metadata": {},
   "source": [
    "### 반복문\n",
    "# for 문\n",
    "# 자료형 데이터의 개수만큼 반복 실행\n",
    "# while 문\n",
    "# 해당한느 조건식이 거짓일때까지 반복 실행\n"
   ]
  },
  {
   "cell_type": "code",
   "execution_count": 54,
   "metadata": {},
   "outputs": [
    {
     "ename": "SyntaxError",
     "evalue": "invalid syntax. Perhaps you forgot a comma? (231239731.py, line 1)",
     "output_type": "error",
     "traceback": [
      "\u001b[1;36m  Cell \u001b[1;32mIn[54], line 1\u001b[1;36m\u001b[0m\n\u001b[1;33m    range(0. 5)\u001b[0m\n\u001b[1;37m          ^\u001b[0m\n\u001b[1;31mSyntaxError\u001b[0m\u001b[1;31m:\u001b[0m invalid syntax. Perhaps you forgot a comma?\n"
     ]
    }
   ],
   "source": [
    "range(0. 5)\n",
    "[0, 1, 2, 3, 4]"
   ]
  },
  {
   "cell_type": "code",
   "execution_count": null,
   "metadata": {},
   "outputs": [],
   "source": [
    "for i in range(0, 5, 1):\n",
    "    print(1)"
   ]
  },
  {
   "cell_type": "code",
   "execution_count": null,
   "metadata": {},
   "outputs": [],
   "source": [
    "list_a = [1,5,9,11]\n",
    "\n",
    "for i in list_a:\n",
    "    print(i)"
   ]
  },
  {
   "cell_type": "code",
   "execution_count": null,
   "metadata": {},
   "outputs": [],
   "source": [
    "# 리스트의 길이를 출력하는 함수 : len()\n",
    "for i in range(0, len(list_a), 1):\n",
    "    print(list_a[i])"
   ]
  },
  {
   "cell_type": "code",
   "execution_count": null,
   "metadata": {},
   "outputs": [],
   "source": [
    "#1부터 10까지의 합계를 반복문을 이용하여 계산\n",
    "\n",
    "#합계라는 변수를 초기값을 대입하여 변수 생성\n",
    "result = 0\n",
    "\n",
    "\n",
    "for i in range(1, 11, 1):\n",
    "    result += i\n",
    "    # result = result + i\n",
    "print(result)"
   ]
  },
  {
   "cell_type": "code",
   "execution_count": null,
   "metadata": {},
   "outputs": [
    {
     "name": "stdout",
     "output_type": "stream",
     "text": [
      "0 0\n",
      "0 1\n",
      "0 2\n",
      "0 3\n",
      "0 4\n",
      "1 0\n",
      "1 1\n",
      "1 2\n",
      "1 3\n",
      "1 4\n",
      "2 0\n",
      "2 1\n",
      "2 2\n",
      "2 3\n",
      "2 4\n",
      "3 0\n",
      "3 1\n",
      "3 2\n",
      "3 3\n",
      "3 4\n",
      "4 0\n",
      "4 1\n",
      "4 2\n",
      "4 3\n",
      "4 4\n"
     ]
    }
   ],
   "source": [
    "# 다중 for문 \n",
    "for i in range(0, 5, 1):\n",
    "    for j in range(0, 5, 1):\n",
    "        print(i, j)"
   ]
  },
  {
   "cell_type": "code",
   "execution_count": null,
   "metadata": {},
   "outputs": [
    {
     "name": "stdout",
     "output_type": "stream",
     "text": [
      "2 단 시작\n",
      "2 X 1 = 2\n",
      "2 X 2 = 4\n",
      "2 X 3 = 6\n",
      "2 X 4 = 8\n",
      "2 X 5 = 10\n",
      "2 X 6 = 12\n",
      "2 X 7 = 14\n",
      "2 X 8 = 16\n",
      "2 X 9 = 18\n",
      "2 단 종료\n"
     ]
    }
   ],
   "source": [
    "for i in range(2, 3, 1):\n",
    "    print(i, '단 시작')\n",
    "    for j in range(1, 10, 1):\n",
    "         print(i, 'X', j, '=', i*j)\n",
    "    print(i, '단 종료')"
   ]
  },
  {
   "cell_type": "code",
   "execution_count": null,
   "metadata": {},
   "outputs": [],
   "source": [
    "## 반복문 예제문제\n",
    "1. 1부터 50까지의 숫자 중 3의 배수의 합계를 구하시오. \n",
    "- 합계라는 초기 값을 지정(0)\n",
    "- for문을 이용하여 1부터 50까지 반복을 하는 반복문 생성\n",
    "- 1부터 50까지의 합계\n",
    "- 조건식을 이용하여 3의 배수인 경우에만 합계에 더해질 수 있도록 조건문 생성\n",
    "\n",
    "2. 두 개의 주사위의 합이 5 이상인 경우를 출력하시오.\n",
    "- 첫 번째 반복문에서 첫 번째 주사위의 경우의 수를 반복문으로 생성\n",
    "- 두 번째 반복문에서는 두 번째 주사위의 경우의 수를 반복문으로 생성\n",
    "- 2개의 주사위의 합이 5보다 크다는 조건식 생성\n",
    "- 조건식이 참인 경우의 두 주사위의 숫자를 출력"
   ]
  },
  {
   "cell_type": "code",
   "execution_count": 58,
   "metadata": {},
   "outputs": [
    {
     "name": "stdout",
     "output_type": "stream",
     "text": [
      "1275\n"
     ]
    }
   ],
   "source": [
    "result = 0\n",
    "\n",
    "\n",
    "for i in range(1, 51, 1):\n",
    "    result += i\n",
    "print(result)\n",
    "\n"
   ]
  },
  {
   "cell_type": "code",
   "execution_count": null,
   "metadata": {},
   "outputs": [],
   "source": [
    "for i in range(1, 7, 1):\n",
    "    for j in range(1, 7, 1):"
   ]
  },
  {
   "cell_type": "code",
   "execution_count": 59,
   "metadata": {},
   "outputs": [
    {
     "name": "stdout",
     "output_type": "stream",
     "text": [
      "408\n"
     ]
    }
   ],
   "source": [
    "#합계라는 초기 변수를 생성\n",
    "\n",
    "result = 0\n",
    "\n",
    "for i in range(1, 51, 1):\n",
    "    #조건식 3의 배수인 경우\n",
    "    if i % 3 == 0:\n",
    "        result += i\n",
    "print(result)\n"
   ]
  },
  {
   "cell_type": "code",
   "execution_count": 60,
   "metadata": {},
   "outputs": [
    {
     "name": "stdout",
     "output_type": "stream",
     "text": [
      "408\n"
     ]
    }
   ],
   "source": [
    "result = 0\n",
    "for i in range(0, 51, 3):\n",
    "    result += i\n",
    "print(result)"
   ]
  },
  {
   "cell_type": "code",
   "execution_count": 61,
   "metadata": {},
   "outputs": [
    {
     "name": "stdout",
     "output_type": "stream",
     "text": [
      "1 4\n",
      "1 5\n",
      "1 6\n",
      "2 3\n",
      "2 4\n",
      "2 5\n",
      "2 6\n",
      "3 2\n",
      "3 3\n",
      "3 4\n",
      "3 5\n",
      "3 6\n",
      "4 1\n",
      "4 2\n",
      "4 3\n",
      "4 4\n",
      "4 5\n",
      "4 6\n",
      "5 1\n",
      "5 2\n",
      "5 3\n",
      "5 4\n",
      "5 5\n",
      "5 6\n",
      "6 1\n",
      "6 2\n",
      "6 3\n",
      "6 4\n",
      "6 5\n",
      "6 6\n"
     ]
    }
   ],
   "source": [
    "for i in range(1, 7, 1):\n",
    "    for j in range(1, 7, 1):\n",
    "        # 두 주사위의 합이 5이상인 경우\n",
    "        if i + j >= 5:\n",
    "            # 주사위를 출력한다\n",
    "            print(i, j)"
   ]
  },
  {
   "cell_type": "code",
   "execution_count": 63,
   "metadata": {},
   "outputs": [
    {
     "name": "stdout",
     "output_type": "stream",
     "text": [
      "1\n",
      "2\n",
      "3\n",
      "4\n",
      "5\n",
      "6\n",
      "7\n",
      "8\n",
      "9\n",
      "10\n"
     ]
    }
   ],
   "source": [
    "#while 문\n",
    "\n",
    "# 초기값을 생성\n",
    "i = 0\n",
    "# while 조건식\n",
    "while i < 10 :\n",
    "   \n",
    "    i += 1\n",
    "    print(i)"
   ]
  },
  {
   "cell_type": "code",
   "execution_count": 67,
   "metadata": {},
   "outputs": [
    {
     "name": "stdout",
     "output_type": "stream",
     "text": [
      "55\n"
     ]
    }
   ],
   "source": [
    "# while문을 잉효아ㅕ 1부터 10까지의 합계\n",
    "\n",
    "result = 0\n",
    "i = 1\n",
    "\n",
    "while i <= 10:\n",
    "    result += i\n",
    "\n",
    "    i += 1\n",
    "    \n",
    "\n",
    "print(result)"
   ]
  },
  {
   "cell_type": "code",
   "execution_count": 68,
   "metadata": {},
   "outputs": [
    {
     "name": "stdout",
     "output_type": "stream",
     "text": [
      "1\n",
      "2\n",
      "3\n",
      "4\n"
     ]
    }
   ],
   "source": [
    "# break 구문\n",
    "# 반복문을 강제로 종료\n",
    "for i in range(1, 101, 1):\n",
    "    if i ==5:\n",
    "        break\n",
    "    print(i)"
   ]
  },
  {
   "cell_type": "code",
   "execution_count": 69,
   "metadata": {},
   "outputs": [
    {
     "name": "stdout",
     "output_type": "stream",
     "text": [
      "3\n",
      "4\n",
      "5\n",
      "6\n",
      "7\n",
      "8\n",
      "9\n"
     ]
    }
   ],
   "source": [
    "# cintinue구문\n",
    "# 반복문으로 돌아간다.\n",
    "\n",
    "for i in range(1, 10, 1):\n",
    "    if i <3:\n",
    "        continue\n",
    "    print(i)"
   ]
  },
  {
   "cell_type": "code",
   "execution_count": null,
   "metadata": {},
   "outputs": [],
   "source": [
    "### 예제 문제\n",
    "= 반목문을 이용하여 1부터 100까지의 합계를 구하는데, 합계가 1200이 넘어가는 순간의 i 값과 합계를 출력하시오.\n",
    "- 합계라는 초기값을 지정\n",
    "-1 부터 100까지 반복을 하는 반복문 생성\n",
    "- 합계 변수에 반복문의 i값을 누적함\n",
    "- 누적합이 1200보다 크면 반복문을 종료\n",
    "- i의 값과 합계의 값을 출력\n",
    "\n"
   ]
  },
  {
   "cell_type": "code",
   "execution_count": 79,
   "metadata": {},
   "outputs": [
    {
     "name": "stdout",
     "output_type": "stream",
     "text": [
      "1부터 100까지의 합계중 합계의 값이 1200보다 큰 경우는 49까지의 합이고 합계의 값은 1225이다\n"
     ]
    }
   ],
   "source": [
    "result = 0\n",
    "\n",
    "for i in range(1, 101, 1):\n",
    "    result += i\n",
    "    if result > 1200:\n",
    "        break\n",
    "\n",
    "print(f\"1부터 100까지의 합계중 합계의 값이 1200보다 큰 경우는 {i}까지의 합이고 합계의 값은 {result}이다\")"
   ]
  },
  {
   "cell_type": "code",
   "execution_count": 82,
   "metadata": {},
   "outputs": [
    {
     "name": "stdout",
     "output_type": "stream",
     "text": [
      "49 1225\n"
     ]
    }
   ],
   "source": [
    "# while문\n",
    "\n",
    "result = 0\n",
    "\n",
    "i = 1\n",
    "\n",
    "while i <= 100:\n",
    "    result += i\n",
    "    if result > 1200 :\n",
    "        break\n",
    "    i +=1\n",
    "print(i, result)"
   ]
  },
  {
   "cell_type": "markdown",
   "metadata": {},
   "source": [
    "### 자료형 데이터\n",
    "1. 튜플\n",
    "    - 자료형 데이터에서 가장 기본적인 형태의 데이터\n",
    "    - ()로 묶어서 데이터 생성\n",
    "    - 각 원소들을 수정&삭제 불가능\n",
    "2. 리스트\n",
    "    - []로 묶어서 데이터 생성\n",
    "    - 리스트의 내장함수를 이용하여 각 원소들을 수정, 추가, 삭제가 가능\n",
    "3. 딕셔너리\n",
    "    - {}로 묶어서 데이터 생성\n",
    "    - key : value의 형태로 데이터가 생성 \n",
    "    -각 원소들을 수정, 삭제, 추가 가능\n",
    "    "
   ]
  },
  {
   "cell_type": "code",
   "execution_count": 1,
   "metadata": {},
   "outputs": [
    {
     "name": "stdout",
     "output_type": "stream",
     "text": [
      "(1, 'test')\n",
      "(3, 3.14)\n"
     ]
    }
   ],
   "source": [
    "# 튜플\n",
    "a = (1, 'test')\n",
    "b = (3, 3.14)\n",
    "\n",
    "print(a)\n",
    "print(b)"
   ]
  },
  {
   "cell_type": "code",
   "execution_count": 3,
   "metadata": {},
   "outputs": [
    {
     "name": "stdout",
     "output_type": "stream",
     "text": [
      "(1, 'test', 3, 3.14)\n"
     ]
    }
   ],
   "source": [
    "# 튜플들의 합\n",
    "c = a+b\n",
    "print(c)"
   ]
  },
  {
   "cell_type": "code",
   "execution_count": 5,
   "metadata": {},
   "outputs": [
    {
     "name": "stdout",
     "output_type": "stream",
     "text": [
      "(1, 'test', 1, 'test', 1, 'test')\n"
     ]
    }
   ],
   "source": [
    "d = a*3\n",
    "print(d)"
   ]
  },
  {
   "cell_type": "code",
   "execution_count": 6,
   "metadata": {},
   "outputs": [
    {
     "name": "stdout",
     "output_type": "stream",
     "text": [
      "1\n",
      "test\n"
     ]
    }
   ],
   "source": [
    "# 튜플 데이터에서 하나의 원소만 출력\n",
    "print(a[0])\n",
    "print(a[1])"
   ]
  },
  {
   "cell_type": "code",
   "execution_count": 7,
   "metadata": {},
   "outputs": [
    {
     "name": "stdout",
     "output_type": "stream",
     "text": [
      "(20, 30)\n"
     ]
    }
   ],
   "source": [
    "x = (10, 20, 30, 40)\n",
    "\n",
    "#  2번째에서 4번째 전까지의 데이터를 출력\n",
    "print(x[1:3])"
   ]
  },
  {
   "cell_type": "code",
   "execution_count": 9,
   "metadata": {},
   "outputs": [
    {
     "name": "stdout",
     "output_type": "stream",
     "text": [
      "(20, 30, 40)\n",
      "(10, 20)\n"
     ]
    }
   ],
   "source": [
    "# 2번째에서 마지막까지\n",
    "print(x[1:])\n",
    "# 처음부터 3번째 전까지\n",
    "print(x[:2])"
   ]
  },
  {
   "cell_type": "code",
   "execution_count": 14,
   "metadata": {},
   "outputs": [
    {
     "name": "stdout",
     "output_type": "stream",
     "text": [
      "[20, 10, 50, 30]\n",
      "[10, 20, 30, 40]\n",
      "[10, 20, 30, 50]\n",
      "[40, 30, 20, 10]\n",
      "[50, 30, 20, 10]\n"
     ]
    }
   ],
   "source": [
    "# 리스트 형태 데이터\n",
    "a = [20, 10, 50, 30]\n",
    "b = [10, 20, 30, 40]\n",
    "print(a)\n",
    "print(b)\n",
    "# a의 데이터들을 오름차순 정렬 순서 변경\n",
    "a.sort()\n",
    "print(a)\n",
    "\n",
    "# b의 데이터들은 역순으로 변경\n",
    "b.reverse()\n",
    "print(b)\n",
    "\n",
    "#a를 내림차순 정렬\n",
    "a.sort(reverse=True)\n",
    "print(a)"
   ]
  },
  {
   "cell_type": "code",
   "execution_count": 15,
   "metadata": {},
   "outputs": [
    {
     "name": "stdout",
     "output_type": "stream",
     "text": [
      "[50, 30, 20, 10, 80]\n"
     ]
    }
   ],
   "source": [
    "# append() : 리스트에 가장 마지막에 새로운 원소를 추가\n",
    "a.append(80)\n",
    "print(a)"
   ]
  },
  {
   "cell_type": "code",
   "execution_count": 16,
   "metadata": {},
   "outputs": [
    {
     "name": "stdout",
     "output_type": "stream",
     "text": [
      "[40, 30, 20]\n"
     ]
    }
   ],
   "source": [
    "# pop() : 리스트에서 가장 마지막 데이터를 삭제\n",
    "b.pop()\n",
    "print(b)"
   ]
  },
  {
   "cell_type": "code",
   "execution_count": 17,
   "metadata": {},
   "outputs": [
    {
     "name": "stdout",
     "output_type": "stream",
     "text": [
      "[50, 20, 10, 80]\n"
     ]
    }
   ],
   "source": [
    "# del - > 특정한 위치의 값을 삭제\n",
    "del a[1]\n",
    "print(a)"
   ]
  },
  {
   "cell_type": "code",
   "execution_count": 18,
   "metadata": {},
   "outputs": [
    {
     "name": "stdout",
     "output_type": "stream",
     "text": [
      "4\n",
      "3\n"
     ]
    }
   ],
   "source": [
    "# len() 리스트의 길이를 출력하는 함수\n",
    "\n",
    "print(len(a))\n",
    "print(len(b))"
   ]
  },
  {
   "cell_type": "code",
   "execution_count": 20,
   "metadata": {},
   "outputs": [
    {
     "name": "stdout",
     "output_type": "stream",
     "text": [
      "[50, 20, 10, 80, 40, 30, 20, 40, 30, 20]\n"
     ]
    }
   ],
   "source": [
    "# extend(리스트) : 2개의 리스트의 합\n",
    "\n",
    "a.extend(b)\n",
    "print(a)\n"
   ]
  },
  {
   "cell_type": "code",
   "execution_count": null,
   "metadata": {},
   "outputs": [],
   "source": []
  }
 ],
 "metadata": {
  "kernelspec": {
   "display_name": "Python 3",
   "language": "python",
   "name": "python3"
  },
  "language_info": {
   "codemirror_mode": {
    "name": "ipython",
    "version": 3
   },
   "file_extension": ".py",
   "mimetype": "text/x-python",
   "name": "python",
   "nbconvert_exporter": "python",
   "pygments_lexer": "ipython3",
   "version": "3.11.4"
  },
  "orig_nbformat": 4
 },
 "nbformat": 4,
 "nbformat_minor": 2
}
